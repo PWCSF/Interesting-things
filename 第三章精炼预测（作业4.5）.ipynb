{
 "cells": [
  {
   "cell_type": "markdown",
   "metadata": {},
   "source": [
    "# 第三章 精炼预测\n",
    "\n",
    "\n",
    "## 3.1 讨论：怎样的收益率预测模型是好的模型？\n",
    "\n",
    "我们一再强调，收益率预测更接近艺术。但我们还是要讨论一下，怎样的收益率预测模型是好的模型。\n",
    "为更接近问题的核心，我们就上一章的例子，提出下列问题。\n",
    "\n",
    "### 3.1.1 问题一：\n",
    "\n",
    "我们先来思考第一个问题：我们把出现“红三兵”时，记它的预期收益率为1%，未出现时记为0，\n",
    "那么，这个1%是怎么算出来的？\n",
    "要解决这个问题很简单，我们把过去出现“红三兵”之后，股票第二天的收益率记录下来，求个均值即可。\n",
    "\n",
    "### 3.1.2 问题二：\n",
    "\n",
    "那么问题又来了，我们是在做主动管理，所有预测都是基于一致预期收益的，\n",
    "即我们要预测的是超出一致预期的收益，这个和我们学过的超额收益不同，我们姑且将其叫做超常收益。\n",
    "这样，刚才的算法可能就需要调整一些，应该记录每次“红三兵”之后的超常收益，然后求个均值。\n",
    "\n",
    "### 3.1.3 问题三：\n",
    "\n",
    "问题又来了，对于不同股票，出现“红三兵”之后的超常收益，可能分布不同——\n",
    "有些股票可能超常收益的标准差大，有些股票可能超常收益的标准差小，这又怎么办呢？\n",
    "一般来说，我们很会把其中$\\beta$的成分去掉，高$\\beta$的股票自然超常收益的标准差大，\n",
    "我们去掉这个因素后，各股票的超常收益分布接近多了。\n",
    "\n",
    "### 3.1.4 问题四：\n",
    "\n",
    "自然，还有新的问题：不同行业的股票，大概也有上述不同吧。\n",
    "这个要处理就太复杂了，但也可以用类似的方法处理。\n",
    "\n",
    "### 3.1.5 问题五：\n",
    "\n",
    "再来看，在牛市中，如果所有股票都出现“红三兵”，\n",
    "那么出现“红三兵”的股票就并不比指数走得好，这个不合逻辑。\n",
    "解决方案通常是：如果一共有N只股票，其中m只出现“红三兵”，\n",
    "那么出现“红三兵”的，预测超常收益率为(N - m)%，未出现的为m%，\n",
    "这样，倒是实现了平衡，但还要按照刚才计算的超常收益的标准差来标准化一下。\n",
    "\n",
    "### 3.1.6 问题六：\n",
    "\n",
    "再来想一个问题，既然“红三兵”能赚钱，那对称地，“绿三兵”呢？\n",
    "在股票市场上，这个往往要谨慎，因为我国做空机制不够完善，涨跌并不对称。\n",
    "那是不是大宗商品的期货市场上，就可以对称来做呢？\n",
    "期货市场上，做短期波动的策略，可以假设涨跌是对称的。\n",
    "但如果做长期策略，则并不然，大宗商品的需求的增减，往往变动比较慢，\n",
    "几乎可以认为是不变的，供给方面，如果供给过剩，\n",
    "在整个产业链上，了解信息的人是相当多的，\n",
    "而且对过剩供给的消耗也是非常持久的，故熊市一半比较长。\n",
    "而如果供给是短缺的，那么往往各种天灾人祸意外事故都会导致价格暴涨，\n",
    "所以商品牛市往往也比较短暂。\n",
    "这就意味着，大宗商品的长期涨跌也是不对称的。\n",
    "所以，我们要根据情况，判断要不要把“红三兵”和“绿三兵”融和成一个信号。\n",
    "\n",
    "### 3.1.7 问题七：\n",
    "\n",
    "那么问题又来了，怎么判断“红三兵”是否有效呢？\n",
    "我们可以把出现“红三兵”的股票选出来，持有20天，看看收益。\n",
    "\n",
    "### 3.1.8 问题八：\n",
    "\n",
    "但是这样又引入了新的问题，我为什么是持有20天而不是持有30天？\n",
    "索性，干脆只持有1天？或者再加入点止损条件？这样就更复杂了。\n",
    "我们要研究这个入场点好不好，就应该控制变量，根本不要引入任何出场参数。\n",
    "所以，我们就考察持有1天。\n",
    "\n",
    "### 3.1.9 问题九：\n",
    "\n",
    "那么，我们考察持有1天的什么？超常收益？夏普比？信息比？收益回撤比？胜率？\n",
    "另外，因为前面的讨论，每次出现“红三兵”时，我们对未来的预测都不同了。\n",
    "那么，对于一个连续的预测，怎么评价预测准不准？\n",
    "最简单的做法是计算预测和实现的超常收益的相关系数。\n",
    "\n",
    "### 3.1.10 问题十：\n",
    "\n",
    "那问题又来了，相关系数也有好多种算法。\n",
    "其核心在于，我预测的2%和预测的1%，事实上可能并不是2倍的关系。\n",
    "那么，是否应该按某种方式再次将预测标准化呢？是，读者可以想想该怎么做。\n",
    "\n",
    "### 3.1.11 问题十一：\n",
    "\n",
    "接下来，我们回到为什么只考察1天这个问题。\n",
    "我们先思考一下，如果今天出现“红三兵”，\n",
    "我买了后一直持有，次日的平均收益、第三日的的平均收益、第n日的平均收益，\n",
    "是否会有一定的数学关系？\n",
    "很显然，它会衰减，但怎么衰减？\n",
    "一种合理的想法是指数衰减，因为指数衰减有无记忆性，并且只有一个参数。\n",
    "如果是这样，我只需要考察第1天和第2天，一方面求出上述参数，\n",
    "一方面求出首日的预测收益，那后面的收益都能推出来了。\n",
    "但事实上，通过历史数据研究发现，它并非完全的指数衰减，\n",
    "这里面可研究的东西很多。\n",
    "\n",
    "### 3.1.12 问题十二：\n",
    "\n",
    "再有，如果短期内连续出现两次“红三兵”，预测收益是否加倍？\n",
    "这就要考虑到红三兵这个信号本身的自相关性了。\n",
    "如果自相关性高，预测收益大体应该是不变的；\n",
    "如果自相关性低，那么预测收益翻倍好像也没什么问题。\n",
    "这自相关性究竟如何影响，也有很多可以研究的东西。\n",
    "\n",
    "### 3.1.13 结论：\n",
    "\n",
    "以上，我们提出了很多问题。我们可以很确定的说，没考虑这些问题的预测，\n",
    "一定不是好的预测。全部考虑了这些问题的预测，也难说孰优孰劣。\n",
    "这就真的进入艺术的领域了。\n",
    "\n",
    "本章，我们将一起，直面上述问题，采用业界通行的办法来精炼预测。\n",
    "我们将采用第二章所找到的预测因子——“红三兵”，将其预测进行精炼。\n",
    "\n",
    "## 3.2 基础知识回顾\n",
    "\n",
    "我们上一章中提到的预测——“红三兵”实际上是我们获取信息的原始形式。\n",
    "由于原始的信息千奇百怪，我们无法把它和其他信息结合起来使用，也无法把它直接用于对收益率的预测。\n",
    "在本章中，我们会把原始预测转化为精炼预测，它与我们要预测的收益率具有相同的单位和量级，\n",
    "具有相似的统计特性，尽可能地暴露出原始预测中所含有地信息量。\n",
    "\n",
    "经过严格地数学推导，我们可以得到基于预测而对主动收益率的最小方差无偏估计：\n",
    "$$\\alpha = \\mathbf{Cov}[r, g] \\cdot \\mathbf{Var}^{-1}[g] \\cdot (g - \\mathbf{E}[g])$$\n",
    "其中，r是预测标的的主动收益率，g是我们的原始预测。\n",
    "\n",
    "然后，我们经过不那么严谨的简化，可以得到简化表达式，也就是我们在本章中的核心脉络：\n",
    "$$\\alpha = \\omega \\cdot IC \\cdot z$$\n",
    "其中$\\omega$是标的主动收益率的标准差，IC是信息系数，定义为原始预测和标的主动收益率的相关系数，z是原始预测的标准化形式，均值为0，标准差为1。\n",
    "\n",
    "下面，我们将以此为脉络开展我们的实验，以求出精炼预测$\\alpha$。\n",
    "\n",
    "## 3.3 操作总览\n",
    "\n",
    "本实验由以下几个步骤组成：\n",
    "1. 步骤一：重构并优化“红三兵”\n",
    "2. 步骤二：信号标准化\n",
    "3. 步骤三：计算信息系数IC\n",
    "4. 步骤四：计算精炼预测$\\alpha$\n",
    "\n",
    "## 3.4 操作流程\n",
    "\n",
    "### 3.4.0 准备工作\n",
    "\n",
    "我们每一章的代码都是可以独立运行的，所以在开始之前，我们需要做一些准备工作："
   ]
  },
  {
   "cell_type": "code",
   "execution_count": 17,
   "metadata": {},
   "outputs": [],
   "source": [
    "import matplotlib.pyplot as plt\n",
    "import pandas as pd\n",
    "\n",
    "import tushare as ts\n",
    "import numpy as np"
   ]
  },
  {
   "cell_type": "markdown",
   "metadata": {},
   "source": [
    "在获取股票数据时，我们采用TuShare提供的最新的方法："
   ]
  },
  {
   "cell_type": "code",
   "execution_count": 2,
   "metadata": {
    "scrolled": true
   },
   "outputs": [
    {
     "name": "stderr",
     "output_type": "stream",
     "text": [
      "D:\\Anaconda\\lib\\site-packages\\tushare\\stock\\classifying.py:266: FutureWarning: the 'parse_cols' keyword is deprecated, use 'usecols' instead\n",
      "  ct.PAGES['sz50b']), parse_cols=[0, 4, 5])\n"
     ]
    },
    {
     "data": {
      "text/html": [
       "<div>\n",
       "<style scoped>\n",
       "    .dataframe tbody tr th:only-of-type {\n",
       "        vertical-align: middle;\n",
       "    }\n",
       "\n",
       "    .dataframe tbody tr th {\n",
       "        vertical-align: top;\n",
       "    }\n",
       "\n",
       "    .dataframe thead th {\n",
       "        text-align: right;\n",
       "    }\n",
       "</style>\n",
       "<table border=\"1\" class=\"dataframe\">\n",
       "  <thead>\n",
       "    <tr style=\"text-align: right;\">\n",
       "      <th></th>\n",
       "      <th>date</th>\n",
       "      <th>open</th>\n",
       "      <th>close</th>\n",
       "      <th>high</th>\n",
       "      <th>low</th>\n",
       "      <th>volume</th>\n",
       "      <th>code</th>\n",
       "    </tr>\n",
       "  </thead>\n",
       "  <tbody>\n",
       "    <tr>\n",
       "      <th>0</th>\n",
       "      <td>2017-01-03</td>\n",
       "      <td>12.184</td>\n",
       "      <td>12.251</td>\n",
       "      <td>12.356</td>\n",
       "      <td>12.153</td>\n",
       "      <td>162371.0</td>\n",
       "      <td>600000</td>\n",
       "    </tr>\n",
       "    <tr>\n",
       "      <th>1</th>\n",
       "      <td>2017-01-04</td>\n",
       "      <td>12.244</td>\n",
       "      <td>12.274</td>\n",
       "      <td>12.289</td>\n",
       "      <td>12.161</td>\n",
       "      <td>296587.0</td>\n",
       "      <td>600000</td>\n",
       "    </tr>\n",
       "    <tr>\n",
       "      <th>2</th>\n",
       "      <td>2017-01-05</td>\n",
       "      <td>12.251</td>\n",
       "      <td>12.251</td>\n",
       "      <td>12.311</td>\n",
       "      <td>12.206</td>\n",
       "      <td>264376.0</td>\n",
       "      <td>600000</td>\n",
       "    </tr>\n",
       "    <tr>\n",
       "      <th>3</th>\n",
       "      <td>2017-01-06</td>\n",
       "      <td>12.251</td>\n",
       "      <td>12.161</td>\n",
       "      <td>12.251</td>\n",
       "      <td>12.123</td>\n",
       "      <td>171955.0</td>\n",
       "      <td>600000</td>\n",
       "    </tr>\n",
       "    <tr>\n",
       "      <th>4</th>\n",
       "      <td>2017-01-09</td>\n",
       "      <td>12.206</td>\n",
       "      <td>12.176</td>\n",
       "      <td>12.244</td>\n",
       "      <td>12.123</td>\n",
       "      <td>149087.0</td>\n",
       "      <td>600000</td>\n",
       "    </tr>\n",
       "  </tbody>\n",
       "</table>\n",
       "</div>"
      ],
      "text/plain": [
       "         date    open   close    high     low    volume    code\n",
       "0  2017-01-03  12.184  12.251  12.356  12.153  162371.0  600000\n",
       "1  2017-01-04  12.244  12.274  12.289  12.161  296587.0  600000\n",
       "2  2017-01-05  12.251  12.251  12.311  12.206  264376.0  600000\n",
       "3  2017-01-06  12.251  12.161  12.251  12.123  171955.0  600000\n",
       "4  2017-01-09  12.206  12.176  12.244  12.123  149087.0  600000"
      ]
     },
     "execution_count": 2,
     "metadata": {},
     "output_type": "execute_result"
    }
   ],
   "source": [
    "stock_list = ts.get_sz50s().code\n",
    "stock_data = {}\n",
    "for stock in stock_list:\n",
    "    stock_data[stock] = ts.get_k_data(stock, start='2017-01-01', end='2017-12-31')\n",
    "stock_data['600000'].head()"
   ]
  },
  {
   "cell_type": "markdown",
   "metadata": {},
   "source": [
    "同样的，我们获取上证50指数（000016）的数据："
   ]
  },
  {
   "cell_type": "code",
   "execution_count": 5,
   "metadata": {},
   "outputs": [
    {
     "name": "stdout",
     "output_type": "stream",
     "text": [
      "         date     open    close     high      low      volume      code\n",
      "0  2017-01-03  2285.27  2307.89  2311.29  2285.27  25908920.0  sh000016\n",
      "1  2017-01-04  2305.91  2322.21  2324.56  2304.17  26104403.0  sh000016\n",
      "2  2017-01-05  2322.42  2322.68  2326.18  2317.89  26528712.0  sh000016\n",
      "3  2017-01-06  2323.01  2308.94  2326.43  2308.37  26445124.0  sh000016\n",
      "4  2017-01-09  2308.44  2318.34  2321.69  2307.16  26523074.0  sh000016\n",
      "244\n"
     ]
    }
   ],
   "source": [
    "index_name = '000016'\n",
    "index_data = ts.get_k_data(index_name, index=True, start='2017-01-01', end='2017-12-31') #上证50指数 的6个数据\n",
    "print(index_data.head())\n",
    "print(len(index_data))"
   ]
  },
  {
   "cell_type": "code",
   "execution_count": 6,
   "metadata": {},
   "outputs": [],
   "source": [
    "#print(index_data.date)"
   ]
  },
  {
   "cell_type": "markdown",
   "metadata": {},
   "source": [
    "我们把所有股票的开盘价，做在一个DataFrame里，最高价、最低价、收盘价等同理，这样可以方便我们计算并增加新的因子。"
   ]
  },
  {
   "cell_type": "code",
   "execution_count": 7,
   "metadata": {},
   "outputs": [],
   "source": [
    "##################              再研究\n",
    "stock_0 = pd.DataFrame(index=index_data.date)    # 用日期作为index\n",
    "stock_na = pd.DataFrame(index=index_data.date)\n",
    "stock_open = stock_0.copy()\n",
    "stock_high = stock_0.copy()\n",
    "stock_low = stock_0.copy()\n",
    "stock_close = stock_0.copy()\n",
    "\n",
    "for stock in stock_list:\n",
    "    stock_0 = stock_0.join(pd.DataFrame(0.0, index=stock_data[stock].date, columns=[stock]))\n",
    "    stock_na = stock_na.join(pd.DataFrame(stock_data[stock].open.isna().values, index=stock_data[stock].date, columns=[stock]))\n",
    "    stock_open = stock_open.join(pd.DataFrame(stock_data[stock].open.values, index=stock_data[stock].date, columns=[stock]))\n",
    "    stock_high = stock_high.join(pd.DataFrame(stock_data[stock].high.values, index=stock_data[stock].date, columns=[stock]))\n",
    "    stock_low = stock_low.join(pd.DataFrame(stock_data[stock].low.values, index=stock_data[stock].date, columns=[stock]))\n",
    "    stock_close = stock_close.join(pd.DataFrame(stock_data[stock].close.values, index=stock_data[stock].date, columns=[stock]))"
   ]
  },
  {
   "cell_type": "markdown",
   "metadata": {},
   "source": [
    "有了这些基础数据，我们可以计算收益率："
   ]
  },
  {
   "cell_type": "code",
   "execution_count": 8,
   "metadata": {},
   "outputs": [
    {
     "name": "stdout",
     "output_type": "stream",
     "text": [
      "              600000    600016    600019    600028    600029    600030  \\\n",
      "date                                                                     \n",
      "2017-01-03  0.000000  0.000000  0.000000  0.000000  0.000000  0.000000   \n",
      "2017-01-04  0.001877  0.000000  0.018987  0.010919  0.010069  0.001810   \n",
      "2017-01-05 -0.001874 -0.003179  0.001511  0.032403  0.008379 -0.004323   \n",
      "2017-01-06 -0.007346 -0.007765  0.020114  0.020924 -0.001433 -0.008619   \n",
      "2017-01-09  0.001233  0.001118  0.004436 -0.001740  0.004304  0.003726   \n",
      "\n",
      "              600036    600048    600050    600104    ...       601766  \\\n",
      "date                                                  ...                \n",
      "2017-01-03  0.000000  0.000000  0.000000  0.000000    ...     0.000000   \n",
      "2017-01-04  0.003329  0.002197 -0.001350  0.016723    ...     0.010162   \n",
      "2017-01-05  0.004444 -0.002192  0.055135 -0.009850    ...    -0.004087   \n",
      "2017-01-06 -0.007728 -0.003353 -0.020364 -0.005830    ...     0.004104   \n",
      "2017-01-09 -0.001070  0.002204  0.003791  0.010425    ...     0.020119   \n",
      "\n",
      "              601800    601818    601857    601888    601939    601988  \\\n",
      "date                                                                     \n",
      "2017-01-03  0.000000  0.000000  0.000000  0.000000  0.000000  0.000000   \n",
      "2017-01-04  0.010479  0.002453  0.003757  0.001417  0.000000  0.000000   \n",
      "2017-01-05 -0.001940 -0.004894  0.020008  0.007124  0.000000 -0.002850   \n",
      "2017-01-06  0.012268 -0.005191  0.024551 -0.003888 -0.005569 -0.005716   \n",
      "2017-01-09  0.009007  0.000000  0.001112 -0.000235  0.001800  0.000000   \n",
      "\n",
      "              601989  603259    603993  \n",
      "date                                    \n",
      "2017-01-03  0.000000     0.0  0.000000  \n",
      "2017-01-04  0.004097     0.0  0.013322  \n",
      "2017-01-05  0.014826     0.0  0.000000  \n",
      "2017-01-06 -0.005361     0.0 -0.007781  \n",
      "2017-01-09  0.043121     0.0  0.005138  \n",
      "\n",
      "[5 rows x 50 columns]\n"
     ]
    }
   ],
   "source": [
    "stock_rtn = stock_0.copy()\n",
    "for stock in stock_list:\n",
    "    stock_rtn[stock] = stock_close[stock] / stock_close[stock].shift() - 1  # shift 是下一行的\n",
    "stock_rtn = stock_rtn.fillna(0)                  # 将None的替换为0\n",
    "print(stock_rtn.head())"
   ]
  },
  {
   "cell_type": "markdown",
   "metadata": {},
   "source": [
    "### 3.4.1 步骤一：重构并优化“红三兵”\n",
    "\n",
    "我们之前的“红三兵”判定程序，为帮助大家更好的理解，相对比较冗长。而且它仅适用于之前的股票数据格式。故我们需要重构并优化其判定函数，并计算出它对每只股票主动收益率的初步预测值。其中，主动收益率指组合/股票的收益率于基准的收益率之差。下同。"
   ]
  },
  {
   "cell_type": "code",
   "execution_count": 9,
   "metadata": {
    "scrolled": true
   },
   "outputs": [
    {
     "name": "stdout",
     "output_type": "stream",
     "text": [
      "              600000    600016    600019    600028    600029    600030  \\\n",
      "date                                                                     \n",
      "2017-12-25  0.000000  0.000000  0.000000  0.021357  0.007925  0.002324   \n",
      "2017-12-26 -0.001897 -0.006176 -0.006219  0.022476  0.000000  0.000000   \n",
      "2017-12-27 -0.003942  0.004850  0.014178  0.011625  0.000000  0.000000   \n",
      "2017-12-28 -0.001340  0.004464  0.014224  0.020637  0.000000  0.002657   \n",
      "2017-12-29 -0.001386  0.000000  0.004428  0.003891  0.005548  0.000000   \n",
      "\n",
      "              600036    600048  600050    600104    ...       601766  \\\n",
      "date                                                ...                \n",
      "2017-12-25  0.004816  0.000000     0.0  0.023626    ...    -0.000771   \n",
      "2017-12-26  0.000000  0.000000     0.0  0.000000    ...     0.000000   \n",
      "2017-12-27  0.000000  0.000000     0.0  0.000000    ...     0.000000   \n",
      "2017-12-28  0.000000  0.001599     0.0 -0.009598    ...     0.000000   \n",
      "2017-12-29  0.000000  0.000000     0.0  0.000000    ...     0.000000   \n",
      "\n",
      "              601800    601818    601857    601888    601939    601988  \\\n",
      "date                                                                     \n",
      "2017-12-25  0.000000  0.000000  0.016055  0.005286 -0.004456  0.000000   \n",
      "2017-12-26 -0.004123  0.000000  0.016022  0.000000 -0.005141  0.004652   \n",
      "2017-12-27  0.000000  0.009485 -0.011458  0.000000  0.002220  0.006204   \n",
      "2017-12-28  0.000000  0.009092 -0.012903  0.000000  0.005366 -0.000940   \n",
      "2017-12-29  0.000000  0.000000 -0.013965  0.000000  0.000000 -0.009748   \n",
      "\n",
      "            601989  603259    603993  \n",
      "date                                  \n",
      "2017-12-25     0.0     0.0  0.000436  \n",
      "2017-12-26     0.0     0.0  0.000000  \n",
      "2017-12-27     0.0     0.0  0.000000  \n",
      "2017-12-28     0.0     0.0  0.000000  \n",
      "2017-12-29     0.0     0.0  0.000000  \n",
      "\n",
      "[5 rows x 50 columns]\n"
     ]
    }
   ],
   "source": [
    "def cal_rtn_predictor_r3s():\n",
    "    #初始化返回值\n",
    "    res = stock_0.copy().fillna(0)\n",
    "    #计算每只股票的预测值\n",
    "    for stock in stock_list:\n",
    "        #计算每日的预测值\n",
    "        for i in range(2, len(stock_0)):\n",
    "            idx = list(range(i - 2, i + 1))      \n",
    "            if stock_na[stock][idx].sum():\n",
    "                #剔除近三日有停牌的股票\n",
    "                res[stock][i] = 0.0\n",
    "            else:\n",
    "                o = stock_open[stock][idx].copy()\n",
    "                c = stock_close[stock][idx].copy()\n",
    "                h = stock_high[stock][idx].copy()\n",
    "                l = stock_low[stock][idx].copy()\n",
    "                r = stock_rtn[stock][idx].copy()\n",
    "                os = o.shift(-1)\n",
    "                #计算\n",
    "                d = (r > 0).sum()\n",
    "                dd = (r < 0).sum()\n",
    "                #近三日中有两日以上上涨\n",
    "                if d > 0:\n",
    "                    #每日开盘是否在上日K线实体之内\n",
    "                    in_entity = (os > o).sum() + (os < c).sum()\n",
    "                    #计算惩罚函数\n",
    "                    loss = (c / h - 1).std() + r.std() + (3 - d) / 100 + (4 - in_entity) / 100\n",
    "                    if loss < 0.05:\n",
    "                        #看涨，预测收益率\n",
    "                        res[stock][i] = 0.05 - loss\n",
    "                #近三日中有两日以上没有上涨\n",
    "                if dd > 0:\n",
    "                    #每日开盘是否在上日K线实体之内\n",
    "                    in_entity = (os < o).sum() + (os > c).sum()\n",
    "                    #计算惩罚函数\n",
    "                    loss = (c / l - 1).std() + r.std() + (3 - d) / 100 + (4 - in_entity) / 100\n",
    "                    if loss < 0.05:\n",
    "                        #看跌，预测收益率\n",
    "                        res[stock][i] = -0.05 + loss\n",
    "    return res\n",
    "\n",
    "rtn_predictor_r3s = cal_rtn_predictor_r3s()\n",
    "print(rtn_predictor_r3s.tail())"
   ]
  },
  {
   "cell_type": "markdown",
   "metadata": {},
   "source": [
    "这里，我们大幅调整了“红三兵”的算法：\n",
    "1. 对称地增加了“绿三兵”；\n",
    "2. 把“连续三根阳线”做成惩罚条件，如果只有两根阳线，也有可能选入；\n",
    "3. 把“每日开盘价在上日k线实体之内”做成惩罚条件，稍有不满足，也有可能选入；\n",
    "4. 把“每根阳线差不多等长”做成惩罚条件，以收益率的标准差来衡量；\n",
    "5. 把“收盘价接近最高价”做成惩罚条件， 以二者偏离率的标准差来衡量。\n",
    "6. 以5%减去上述惩罚项得到预测收益率。\n",
    "\n",
    "尽管我们进行了优化，但仍有值得改进的地方。比如，上涨下跌真的对称吗？\n",
    "我们的惩罚条件中，不同惩罚项的设计纯属拍脑袋决定的，怎样找出最优设计？\n",
    "请读者自行设计更优的惩罚函数，使得“红三兵”的算法看起来更好，作为课堂练习："
   ]
  },
  {
   "cell_type": "markdown",
   "metadata": {},
   "source": [
    "# 作业四"
   ]
  },
  {
   "cell_type": "code",
   "execution_count": 44,
   "metadata": {},
   "outputs": [],
   "source": [
    "#更好的“红三兵”算法，请写在这里：\n",
    "# 改进：对惩罚函数的各个部分进行标准化  消除本身波动性的影响\n",
    "import numpy as np\n",
    "def cal_rtn_predictor_r3s_new():\n",
    "    #初始化返回值\n",
    "    res = stock_0.copy().fillna(0)\n",
    "    #改进： 计算各个股票的均值标准差  为标准化做准备\n",
    "    o1,o2 = np.mean(stock_open.fillna(0)),np.std(stock_open.fillna(0))\n",
    "    h1,h2 = np.mean(stock_high.fillna(0)),np.std(stock_high.fillna(0))\n",
    "    l1,l2 = np.mean(stock_low.fillna(0)),np.std(stock_low.fillna(0))\n",
    "    c1,c2 = np.mean(stock_close.fillna(0)),np.std(stock_close.fillna(0))\n",
    "    r1,r2 = np.mean(stock_rtn.fillna(0)),np.std(stock_rtn.fillna(0))\n",
    "    \n",
    "    #计算每只股票的预测值\n",
    "    for stock in stock_list:\n",
    "        #计算每日的预测值\n",
    "        for i in range(2, len(stock_0)):\n",
    "            idx = list(range(i - 2, i + 1))      \n",
    "            if stock_na[stock][idx].sum():     # 用idx对天进行遍历\n",
    "                #剔除近三日有停牌的股票\n",
    "                res[stock][i] = 0.0\n",
    "            # 改进：计算标准化变量\n",
    "            else:\n",
    "                o = (stock_open[stock][idx].copy()-o1[stock])/o2[stock]\n",
    "                c = (stock_close[stock][idx].copy()-c1[stock])/c2[stock]\n",
    "                h = (stock_high[stock][idx].copy()-h1[stock])/h2[stock]\n",
    "                l = (stock_low[stock][idx].copy()-l1[stock])/l2[stock]\n",
    "                r = (stock_rtn[stock][idx].copy()-r1[stock])/r2[stock]\n",
    "                os = o.shift(-1)\n",
    "                #计算\n",
    "                rr = stock_rtn[stock][idx].copy()\n",
    "                d = (rr > 0).sum()\n",
    "                dd = (rr < 0).sum()\n",
    "                #近三日中有两日以上上涨\n",
    "                if d > 0:\n",
    "                    #每日开盘是否在上日K线实体之内\n",
    "                    in_entity = (os > o).sum() + (os < c).sum()\n",
    "                    #计算惩罚函数\n",
    "                    loss = (c / h - 1).std() + r.std() + (3 - d) / 100 + (4 - in_entity) / 100\n",
    "                    if loss < 0.05:\n",
    "                        #看涨，预测收益率\n",
    "                        res[stock][i] = 0.05 - loss\n",
    "                #近三日中有两日以上没有上涨\n",
    "                if dd > 0:\n",
    "                    #每日开盘是否在上日K线实体之内\n",
    "                    in_entity = (os < o).sum() + (os > c).sum()\n",
    "                    #计算惩罚函数\n",
    "                    loss = (c / l - 1).std() + r.std() + (3 - d) / 100 + (4 - in_entity) / 100\n",
    "                    if loss < 0.05:\n",
    "                        #看跌，预测收益率\n",
    "                        res[stock][i] = -0.05 + loss\n",
    "    return res"
   ]
  },
  {
   "cell_type": "code",
   "execution_count": 12,
   "metadata": {
    "scrolled": false
   },
   "outputs": [
    {
     "data": {
      "text/plain": [
       "<matplotlib.axes._subplots.AxesSubplot at 0x1895c914438>"
      ]
     },
     "execution_count": 12,
     "metadata": {},
     "output_type": "execute_result"
    },
    {
     "data": {
      "image/png": "[encoded data removed]",
      "text/plain": [
       "<Figure size 432x288 with 1 Axes>"
      ]
     },
     "metadata": {},
     "output_type": "display_data"
    }
   ],
   "source": [
    "rtn_predictor_r3s['600000'].plot('hist')   # 看一下预测收益率的分布情况"
   ]
  },
  {
   "cell_type": "code",
   "execution_count": 14,
   "metadata": {},
   "outputs": [
    {
     "name": "stdout",
     "output_type": "stream",
     "text": [
      "<class 'pandas.core.series.Series'>\n"
     ]
    }
   ],
   "source": [
    "print(type(stock_open['600000']))"
   ]
  },
  {
   "cell_type": "code",
   "execution_count": 19,
   "metadata": {},
   "outputs": [],
   "source": [
    "# 计算各个股票的均值标准差  为标准化做准备\n",
    "o1,o2 = np.mean(stock_open.fillna(0)),np.std(stock_open.fillna(0))\n",
    "h1,h2 = np.mean(stock_high.fillna(0)),np.std(stock_high.fillna(0))\n",
    "l1,l2 = np.mean(stock_low.fillna(0)),np.std(stock_low.fillna(0))\n",
    "c1,c2 = np.mean(stock_close.fillna(0)),np.std(stock_close.fillna(0))"
   ]
  },
  {
   "cell_type": "code",
   "execution_count": 25,
   "metadata": {},
   "outputs": [
    {
     "data": {
      "text/plain": [
       "12.438848360655724"
      ]
     },
     "execution_count": 25,
     "metadata": {},
     "output_type": "execute_result"
    }
   ],
   "source": [
    "o1['600000']   # series 中单个股票的均值"
   ]
  },
  {
   "cell_type": "markdown",
   "metadata": {},
   "source": [
    "### 3.4.2 步骤二：预测标准化\n",
    "\n",
    "接下来，我们需要把我们的预测标准化。\n",
    "标准化的方法很多：\n",
    "1. 算法：\n",
    "    1. 减均值，再除以标准差\n",
    "    2. 利用正态分位数，把预测映射为正态分布\n",
    "    3. 利用S型函数，把预测极化\n",
    "2. 数据：\n",
    "    1. 利用时间序列数据，每只股票分别标准化\n",
    "    2. 利用截面数据，每日分别标准化\n",
    "    3. 利用面板数据，统一标准化\n",
    "    \n",
    "我们先采用相对简单的方法：使用面板数据，直接使用减均值再除以标准差的方法，统一进行标准化："
   ]
  },
  {
   "cell_type": "code",
   "execution_count": 9,
   "metadata": {},
   "outputs": [
    {
     "name": "stdout",
     "output_type": "stream",
     "text": [
      "              600000    600016    600019    600028    600029    600030  \\\n",
      "date                                                                     \n",
      "2017-12-25 -0.295747 -0.295747 -0.295747  1.802180  0.482707 -0.067420   \n",
      "2017-12-26 -0.482056 -0.902401 -0.906617  1.912060 -0.295747 -0.295747   \n",
      "2017-12-27 -0.682921  0.180664  1.096953  0.846219 -0.295747 -0.295747   \n",
      "2017-12-28 -0.427391  0.142711  1.101450  1.731461 -0.295747 -0.034783   \n",
      "2017-12-29 -0.431913 -0.295747  0.139258  0.086484  0.249197 -0.295747   \n",
      "\n",
      "              600036    600048    600050    600104    ...       601688  \\\n",
      "date                                                  ...                \n",
      "2017-12-25  0.177295 -0.295747 -0.295747  2.024998    ...    -0.295747   \n",
      "2017-12-26 -0.295747 -0.295747 -0.295747 -0.295747    ...    -0.295747   \n",
      "2017-12-27 -0.295747 -0.295747 -0.295747 -0.295747    ...    -0.295747   \n",
      "2017-12-28 -0.295747 -0.138679 -0.295747 -1.238582    ...    -0.295747   \n",
      "2017-12-29 -0.295747 -0.295747 -0.295747 -0.295747    ...    -0.952774   \n",
      "\n",
      "              601766    601800    601818    601857    601878    601881  \\\n",
      "date                                                                     \n",
      "2017-12-25 -0.371531 -0.295747 -0.295747  1.281310 -0.295747 -0.295747   \n",
      "2017-12-26 -0.295747 -0.700760 -0.295747  1.278107 -0.295747 -0.295747   \n",
      "2017-12-27 -0.295747 -0.295747  0.635997 -1.421297 -0.295747 -0.295747   \n",
      "2017-12-28 -0.295747 -0.295747  0.597399 -1.563234 -0.295747 -0.295747   \n",
      "2017-12-29 -0.295747 -0.295747 -0.295747 -1.667527 -0.295747 -0.295747   \n",
      "\n",
      "              601988    601989    603993  \n",
      "date                                      \n",
      "2017-12-25 -0.295747 -0.295747 -0.252898  \n",
      "2017-12-26  0.161205 -0.295747 -0.295747  \n",
      "2017-12-27  0.313674 -0.295747 -0.295747  \n",
      "2017-12-28 -0.388124 -0.295747 -0.295747  \n",
      "2017-12-29 -1.253279 -0.295747 -0.295747  \n",
      "\n",
      "[5 rows x 50 columns]\n"
     ]
    }
   ],
   "source": [
    "z_r3s = (rtn_predictor_r3s - rtn_predictor_r3s.values.mean()) / rtn_predictor_r3s.values.std()\n",
    "print(z_r3s.tail())"
   ]
  },
  {
   "cell_type": "markdown",
   "metadata": {},
   "source": [
    "通过上面算法，我们得出了标准化的预测。但是，细心的读者会发现，我们之前对于无看法的预测，或者停牌的股票，都给的0预测，现在减去均值之后，它们都变成-0.55了，这一点有违常理。而且，我们计算均值和标准差的数据，都是同期的数据，照理说应该用预测的数据，我们实际上是犯了使用未来数据的错误。那么增样修正呢？\n",
    "\n",
    "1. 首先，我们使用二阶原点矩来替代方差（二阶中心矩）；\n",
    "2. 计算均值绝不能使用未来数据，其实，直接假定均值为0也是合理的；\n",
    "3. 计算标准差时，使用未来数据影响不大，毕竟波动率是有聚集效应的。严谨起见，应使用上年数据计算标准差，但我们选取近似算法，直接使用当年数据。"
   ]
  },
  {
   "cell_type": "code",
   "execution_count": 10,
   "metadata": {},
   "outputs": [
    {
     "name": "stdout",
     "output_type": "stream",
     "text": [
      "              600000    600016    600019    600028    600029    600030  \\\n",
      "date                                                                     \n",
      "2017-12-25  0.000000  0.000000  0.000000  2.097927  0.778454  0.228327   \n",
      "2017-12-26 -0.186309 -0.606654 -0.610870  2.207807  0.000000  0.000000   \n",
      "2017-12-27 -0.387174  0.476411  1.392700  1.141966  0.000000  0.000000   \n",
      "2017-12-28 -0.131644  0.438458  1.397197  2.027208  0.000000  0.260964   \n",
      "2017-12-29 -0.136166  0.000000  0.435005  0.382231  0.544944  0.000000   \n",
      "\n",
      "              600036    600048  600050    600104    ...       601688  \\\n",
      "date                                                ...                \n",
      "2017-12-25  0.473042  0.000000     0.0  2.320745    ...     0.000000   \n",
      "2017-12-26  0.000000  0.000000     0.0  0.000000    ...     0.000000   \n",
      "2017-12-27  0.000000  0.000000     0.0  0.000000    ...     0.000000   \n",
      "2017-12-28  0.000000  0.157068     0.0 -0.942835    ...     0.000000   \n",
      "2017-12-29  0.000000  0.000000     0.0  0.000000    ...    -0.657027   \n",
      "\n",
      "              601766    601800    601818    601857  601878  601881    601988  \\\n",
      "date                                                                           \n",
      "2017-12-25 -0.075784  0.000000  0.000000  1.577057     0.0     0.0  0.000000   \n",
      "2017-12-26  0.000000 -0.405013  0.000000  1.573854     0.0     0.0  0.456952   \n",
      "2017-12-27  0.000000  0.000000  0.931744 -1.125550     0.0     0.0  0.609421   \n",
      "2017-12-28  0.000000  0.000000  0.893146 -1.267487     0.0     0.0 -0.092377   \n",
      "2017-12-29  0.000000  0.000000  0.000000 -1.371780     0.0     0.0 -0.957532   \n",
      "\n",
      "            601989    603993  \n",
      "date                          \n",
      "2017-12-25     0.0  0.042849  \n",
      "2017-12-26     0.0  0.000000  \n",
      "2017-12-27     0.0  0.000000  \n",
      "2017-12-28     0.0  0.000000  \n",
      "2017-12-29     0.0  0.000000  \n",
      "\n",
      "[5 rows x 50 columns]\n"
     ]
    }
   ],
   "source": [
    "z_r3s = rtn_predictor_r3s / rtn_predictor_r3s.values.std()\n",
    "print(z_r3s.tail())"
   ]
  },
  {
   "cell_type": "markdown",
   "metadata": {},
   "source": [
    "我们给读者留一个课堂练习：使用S型函数，利用极化的方式来标准化预测。\n",
    "\n",
    "注：常见的S型函数是：\n",
    "$$f(x) = \\frac{1}{1 - e^{-b(x - a)}}$$"
   ]
  },
  {
   "cell_type": "code",
   "execution_count": 45,
   "metadata": {
    "scrolled": false
   },
   "outputs": [],
   "source": [
    "#print(rtn_predictor_r3s)  # 原始的预测收益率  为dataframe"
   ]
  },
  {
   "cell_type": "markdown",
   "metadata": {},
   "source": [
    "# 作业五"
   ]
  },
  {
   "cell_type": "code",
   "execution_count": 72,
   "metadata": {},
   "outputs": [
    {
     "data": {
      "text/plain": [
       "[<matplotlib.lines.Line2D at 0x26abf46deb8>]"
      ]
     },
     "execution_count": 72,
     "metadata": {},
     "output_type": "execute_result"
    },
    {
     "data": {
      "image/png": "[encoded data removed]",
      "text/plain": [
       "<Figure size 432x288 with 1 Axes>"
      ]
     },
     "metadata": {},
     "output_type": "display_data"
    }
   ],
   "source": [
    "#利用S型函数来标准化预测\n",
    "# 构造s型函数\n",
    "import numpy as np\n",
    "import matplotlib.pyplot as plt\n",
    "x = np.arange(-5,5)    # 设定范围\n",
    "y = 2/ (1 + math.e**-(2*x))-1\n",
    "plt.xlabel(\"x\")\n",
    "plt.ylabel(\"y\")\n",
    "plt.grid(True)\n",
    "plt.plot(x,y)"
   ]
  },
  {
   "cell_type": "code",
   "execution_count": 81,
   "metadata": {},
   "outputs": [],
   "source": [
    "#利用S型函数来标准化预测\n",
    "import math    \n",
    "def sigmoid(x):\n",
    "    return 2/ (1 + math.e**-(2*x))-1  # mathematically equivalent, but simpler    #  Sigmoid function"
   ]
  },
  {
   "cell_type": "code",
   "execution_count": 87,
   "metadata": {},
   "outputs": [
    {
     "name": "stdout",
     "output_type": "stream",
     "text": [
      "              600000    600016    600019    600028   600029    600030  \\\n",
      "date                                                                    \n",
      "2017-12-25  0.000000  0.000000  0.000000  1.000000  1.00000  0.981036   \n",
      "2017-12-26 -0.955950 -0.999991 -0.999992  1.000000  0.00000  0.000000   \n",
      "2017-12-27 -0.999246  0.999877  1.000000  1.000000  0.00000  0.000000   \n",
      "2017-12-28 -0.871711  0.999735  1.000000  1.000000  0.00000  0.990197   \n",
      "2017-12-29 -0.882331  0.000000  0.999715  0.999166  0.99997  0.000000   \n",
      "\n",
      "              600036    600048  600050  600104    ...       601688    601766  \\\n",
      "date                                              ...                          \n",
      "2017-12-25  0.999869  0.000000     0.0     1.0    ...     0.000000 -0.647799   \n",
      "2017-12-26  0.000000  0.000000     0.0     0.0    ...     0.000000  0.000000   \n",
      "2017-12-27  0.000000  0.000000     0.0     0.0    ...     0.000000  0.000000   \n",
      "2017-12-28  0.000000  0.921515     0.0    -1.0    ...     0.000000  0.000000   \n",
      "2017-12-29  0.000000  0.000000     0.0     0.0    ...    -0.999997  0.000000   \n",
      "\n",
      "              601800  601818  601857  601878  601881    601988  601989  \\\n",
      "date                                                                     \n",
      "2017-12-25  0.000000     0.0     1.0     0.0     0.0  0.000000     0.0   \n",
      "2017-12-26 -0.999476     0.0     1.0     0.0     0.0  0.999818     0.0   \n",
      "2017-12-27  0.000000     1.0    -1.0     0.0     0.0  0.999992     0.0   \n",
      "2017-12-28  0.000000     1.0    -1.0     0.0     0.0 -0.735415     0.0   \n",
      "2017-12-29  0.000000     0.0    -1.0     0.0     0.0 -1.000000     0.0   \n",
      "\n",
      "              603993  \n",
      "date                  \n",
      "2017-12-25  0.410498  \n",
      "2017-12-26  0.000000  \n",
      "2017-12-27  0.000000  \n",
      "2017-12-28  0.000000  \n",
      "2017-12-29  0.000000  \n",
      "\n",
      "[5 rows x 50 columns]\n"
     ]
    }
   ],
   "source": [
    "#z_r3s = (rtn_predictor_r3s - rtn_predictor_r3s.values.mean()) / rtn_predictor_r3s.values.std()\n",
    "z_r3sss =sigmoid(1000*rtn_predictor_r3s)\n",
    "print(z_r3sss.tail()) "
   ]
  },
  {
   "cell_type": "markdown",
   "metadata": {},
   "source": [
    "### 3.4.3 步骤三：计算信息系数IC\n",
    "\n",
    "接下来，我们要计算信息系数IC。其定义式为：\n",
    "$$IC = \\mathbf{Corr}[r, g]$$\n",
    "其中，g是我们对主动收益率的标准化预测，r则是实现的主动收益率。\n",
    "\n",
    "我们刚才已经算出了g，那么，现在，我们来计算r，首先，我们来整理关于指数的数据："
   ]
  },
  {
   "cell_type": "code",
   "execution_count": 31,
   "metadata": {},
   "outputs": [
    {
     "name": "stdout",
     "output_type": "stream",
     "text": [
      "             000016\n",
      "date               \n",
      "2017-01-03  2307.89\n",
      "2017-01-04  2322.21\n",
      "2017-01-05  2322.68\n",
      "2017-01-06  2308.94\n",
      "2017-01-09  2318.34\n"
     ]
    }
   ],
   "source": [
    "index_0 = pd.DataFrame(0.0, index=index_data.date, columns=[index_name])\n",
    "index_open = pd.DataFrame(index_data.open.values, index=index_data.date, columns=[index_name])\n",
    "index_high = pd.DataFrame(index_data.high.values, index=index_data.date, columns=[index_name])\n",
    "index_low = pd.DataFrame(index_data.low.values, index=index_data.date, columns=[index_name])\n",
    "index_close = pd.DataFrame(index_data.close.values, index=index_data.date, columns=[index_name])\n",
    "print(index_close.head())"
   ]
  },
  {
   "cell_type": "markdown",
   "metadata": {},
   "source": [
    "然后，我们来计算指数的收益率："
   ]
  },
  {
   "cell_type": "code",
   "execution_count": 32,
   "metadata": {},
   "outputs": [
    {
     "name": "stdout",
     "output_type": "stream",
     "text": [
      "              000016\n",
      "date                \n",
      "2017-01-03  0.000000\n",
      "2017-01-04  0.006205\n",
      "2017-01-05  0.000202\n",
      "2017-01-06 -0.005916\n",
      "2017-01-09  0.004071\n"
     ]
    }
   ],
   "source": [
    "index_rtn = index_close / index_close.shift() - 1\n",
    "index_rtn = index_rtn.fillna(0)\n",
    "print(index_rtn.head())"
   ]
  },
  {
   "cell_type": "markdown",
   "metadata": {},
   "source": [
    "这样，我们可以计算股票的主动收益率r。为此，我们需要引入一个新的包NumPy:"
   ]
  },
  {
   "cell_type": "code",
   "execution_count": 61,
   "metadata": {},
   "outputs": [
    {
     "name": "stdout",
     "output_type": "stream",
     "text": [
      "              600000    600016    600019    600028    600029    600030  \\\n",
      "date                                                                     \n",
      "2017-01-03  0.000000  0.000000  0.000000  0.000000  0.000000  0.000000   \n",
      "2017-01-04 -0.004327 -0.006205  0.012783  0.004714  0.003864 -0.004395   \n",
      "2017-01-05 -0.002076 -0.003381  0.001308  0.032200  0.008177 -0.004526   \n",
      "2017-01-06 -0.001431 -0.001849  0.026030  0.026839  0.004483 -0.002703   \n",
      "2017-01-09 -0.002838 -0.002953  0.000365 -0.005811  0.000233 -0.000345   \n",
      "\n",
      "              600036    600048    600050    600104    ...       601688  \\\n",
      "date                                                  ...                \n",
      "2017-01-03  0.000000  0.000000  0.000000  0.000000    ...     0.000000   \n",
      "2017-01-04 -0.002875 -0.004008 -0.007554  0.010518    ...     0.007550   \n",
      "2017-01-05  0.004242 -0.002394  0.054933 -0.010053    ...    -0.005096   \n",
      "2017-01-06 -0.001813  0.002563 -0.014448  0.000085    ...    -0.004981   \n",
      "2017-01-09 -0.005141 -0.001867 -0.000280  0.006354    ...    -0.004071   \n",
      "\n",
      "              601766    601800    601818    601857    601878    601881  \\\n",
      "date                                                                     \n",
      "2017-01-03  0.000000  0.000000  0.000000  0.000000  0.000000  0.000000   \n",
      "2017-01-04  0.003957  0.004275 -0.003752 -0.002447 -0.006205 -0.006205   \n",
      "2017-01-05 -0.004289 -0.002143 -0.005096  0.019805 -0.000202 -0.000202   \n",
      "2017-01-06  0.010019  0.018183  0.000724  0.030466  0.005916  0.005916   \n",
      "2017-01-09  0.016048  0.004935 -0.004071 -0.002959 -0.004071 -0.004071   \n",
      "\n",
      "              601988    601989    603993  \n",
      "date                                      \n",
      "2017-01-03  0.000000  0.000000  0.000000  \n",
      "2017-01-04 -0.006205 -0.002108  0.007118  \n",
      "2017-01-05 -0.003052  0.014624 -0.000202  \n",
      "2017-01-06  0.000199  0.000554 -0.001865  \n",
      "2017-01-09 -0.004071  0.039050  0.001067  \n",
      "\n",
      "[5 rows x 50 columns]\n"
     ]
    }
   ],
   "source": [
    "import numpy as np\n",
    "stock_active_rtn = stock_rtn - np.repeat(index_rtn.values, stock_rtn.columns.size, axis=1)\n",
    "print(stock_active_rtn.head())"
   ]
  },
  {
   "cell_type": "markdown",
   "metadata": {},
   "source": [
    "这样，我们可以计算出IC："
   ]
  },
  {
   "cell_type": "code",
   "execution_count": 163,
   "metadata": {},
   "outputs": [
    {
     "name": "stdout",
     "output_type": "stream",
     "text": [
      "0.0211964748412957\n"
     ]
    }
   ],
   "source": [
    "ic_r3s = np.corrcoef(stock_active_rtn.shift(-1).fillna(0.0).values.reshape(stock_active_rtn.size), z_r3s.values.reshape(z_r3s.size))[0,1]\n",
    "print(ic_r3s)"
   ]
  },
  {
   "cell_type": "markdown",
   "metadata": {},
   "source": [
    "在上面的运算中，我们多次用到了NumPy包，我们在此简要介绍一下。\n",
    "\n",
    "NumPy(Numerical Python)是Python语言的一个扩充程序库。它支持高级大量的维度数组与矩阵运算，此外也针对数组运算提供大量的数学函数库。\n",
    "它的核心是ndarray类，前面pandas.DataFrame.values就是返回了numpy.ndarray类型。特别要注意的是，它和Python标准库中的array是不同的。\n",
    "\n",
    "#### 3.4.3.1 ndarrays入门\n",
    "\n",
    "ndarray可用list来创建："
   ]
  },
  {
   "cell_type": "code",
   "execution_count": 89,
   "metadata": {},
   "outputs": [
    {
     "name": "stdout",
     "output_type": "stream",
     "text": [
      "[[1 2]\n",
      " [3 4]]\n"
     ]
    }
   ],
   "source": [
    "x = np.array([[1,2],[3,4]])\n",
    "print(x)"
   ]
  },
  {
   "cell_type": "markdown",
   "metadata": {},
   "source": [
    "也可以创建全为0、全为1或空的数组："
   ]
  },
  {
   "cell_type": "code",
   "execution_count": 95,
   "metadata": {},
   "outputs": [
    {
     "name": "stdout",
     "output_type": "stream",
     "text": [
      "[[1. 1.]\n",
      " [1. 1.]\n",
      " [1. 1.]]\n",
      "[0. 0. 0. 0. 0. 0. 0. 0. 0. 0.]\n",
      "[[1. 1. 1.]\n",
      " [1. 1. 1.]]\n"
     ]
    }
   ],
   "source": [
    "print(np.empty((3,2)))\n",
    "print(np.zeros(10))\n",
    "print(np.ones((2,3)))"
   ]
  },
  {
   "cell_type": "markdown",
   "metadata": {},
   "source": [
    "可以查看数组的基本属性："
   ]
  },
  {
   "cell_type": "code",
   "execution_count": 96,
   "metadata": {},
   "outputs": [
    {
     "name": "stdout",
     "output_type": "stream",
     "text": [
      "2\n",
      "(2, 2)\n"
     ]
    }
   ],
   "source": [
    "print(x.ndim)\n",
    "print(x.shape)"
   ]
  },
  {
   "cell_type": "markdown",
   "metadata": {},
   "source": [
    "数组间可以做简单运算："
   ]
  },
  {
   "cell_type": "code",
   "execution_count": 97,
   "metadata": {},
   "outputs": [
    {
     "name": "stdout",
     "output_type": "stream",
     "text": [
      "[[ 4.         15.5       ]\n",
      " [32.66666667 55.75      ]]\n"
     ]
    }
   ],
   "source": [
    "print(2 * x + 3 * x * x - 1 / x)"
   ]
  },
  {
   "cell_type": "markdown",
   "metadata": {},
   "source": [
    "#### 3.4.3.2 ndarrays基本操作\n",
    "\n",
    "可以访问其子数组和元素："
   ]
  },
  {
   "cell_type": "code",
   "execution_count": 99,
   "metadata": {},
   "outputs": [
    {
     "name": "stdout",
     "output_type": "stream",
     "text": [
      "[1 2]\n",
      "2\n",
      "[2 4]\n"
     ]
    }
   ],
   "source": [
    "print(x[0])\n",
    "print(x[0,1])\n",
    "print(x[:,1])"
   ]
  },
  {
   "cell_type": "markdown",
   "metadata": {},
   "source": [
    "可以改变数组形状："
   ]
  },
  {
   "cell_type": "code",
   "execution_count": 102,
   "metadata": {},
   "outputs": [
    {
     "name": "stdout",
     "output_type": "stream",
     "text": [
      "[1 2 3 4]\n",
      "[[1 2 3 4]]\n",
      "[[1]\n",
      " [2]\n",
      " [3]\n",
      " [4]]\n"
     ]
    }
   ],
   "source": [
    "print(x.reshape(4))\n",
    "print(x.reshape(1,4))\n",
    "print(x.reshape(4,1))"
   ]
  },
  {
   "cell_type": "markdown",
   "metadata": {},
   "source": [
    "也支持布尔运算和布尔索引："
   ]
  },
  {
   "cell_type": "code",
   "execution_count": 106,
   "metadata": {},
   "outputs": [
    {
     "name": "stdout",
     "output_type": "stream",
     "text": [
      "[[False False]\n",
      " [False False]]\n",
      "[[ 1 -1]\n",
      " [-1 -1]]\n"
     ]
    }
   ],
   "source": [
    "print(x > 1)\n",
    "x[x > 1] = -1\n",
    "print(x)"
   ]
  },
  {
   "cell_type": "markdown",
   "metadata": {},
   "source": [
    "布尔索引是非常有用的技巧，应多加理解。\n",
    "\n",
    "#### 3.4.3.3 ndarrays常用函数\n",
    "\n",
    "##### 3.4.3.3.1 元素级别的函数\n",
    "\n",
    "这些函数一般是算术运算的函数，作用在数组的元素上："
   ]
  },
  {
   "cell_type": "code",
   "execution_count": 112,
   "metadata": {},
   "outputs": [
    {
     "name": "stdout",
     "output_type": "stream",
     "text": [
      "x =  [[ 1 -1]\n",
      " [-1 -1]]\n",
      "y =  [[1 2]\n",
      " [3 4]]\n",
      "abs(x) =  [[1 1]\n",
      " [1 1]]\n",
      "sqrt(y) =  [[1.         1.41421356]\n",
      " [1.73205081 2.        ]]\n",
      "exp(x) =  [[2.71828183 0.36787944]\n",
      " [0.36787944 0.36787944]]\n",
      "log(y) =  [[0.         0.69314718]\n",
      " [1.09861229 1.38629436]]\n",
      "sign(x) =  [[ 1 -1]\n",
      " [-1 -1]]\n"
     ]
    }
   ],
   "source": [
    "y = np.array([[1,2],[3,4]])\n",
    "\n",
    "print(\"x = \", x)\n",
    "print(\"y = \", y)\n",
    "print(\"abs(x) = \", np.abs(x))\n",
    "print(\"sqrt(y) = \", np.sqrt(y))\n",
    "print(\"exp(x) = \", np.exp(x))\n",
    "print(\"log(y) = \", np.log(y))\n",
    "print(\"sign(x) = \", np.sign(x))"
   ]
  },
  {
   "cell_type": "markdown",
   "metadata": {},
   "source": [
    "##### 3.4.3.3.2 数组级别的函数\n",
    "\n",
    "这些函数一般一些统计函数，作用在数组上："
   ]
  },
  {
   "cell_type": "code",
   "execution_count": 115,
   "metadata": {},
   "outputs": [
    {
     "name": "stdout",
     "output_type": "stream",
     "text": [
      "2.5\n",
      "10\n",
      "1.118033988749895\n",
      "4\n",
      "1\n"
     ]
    }
   ],
   "source": [
    "print(y.mean())\n",
    "print(y.sum())\n",
    "print(y.std())\n",
    "print(y.max())\n",
    "print(y.min())"
   ]
  },
  {
   "cell_type": "markdown",
   "metadata": {},
   "source": [
    "##### 3.4.3.3.3 集合级别的函数\n",
    "\n",
    "数组可以看作一个数的集合，这些函数把数组看作集合来进行集合操作："
   ]
  },
  {
   "cell_type": "code",
   "execution_count": 116,
   "metadata": {},
   "outputs": [
    {
     "name": "stdout",
     "output_type": "stream",
     "text": [
      "[-1  1]\n",
      "[1]\n",
      "[-1  1  2  3  4]\n"
     ]
    }
   ],
   "source": [
    "#去除冗余\n",
    "print(np.unique(x))\n",
    "#求交集\n",
    "print(np.intersect1d(x,y))\n",
    "#求并集\n",
    "print(np.union1d(x,y))"
   ]
  },
  {
   "cell_type": "markdown",
   "metadata": {},
   "source": [
    "##### 3.4.3.3.4 矩阵级别函数\n",
    "\n",
    "数组可以看作一个矩阵，从而进行线性代数的运算,\n",
    "这需要导入其线性代数模块："
   ]
  },
  {
   "cell_type": "code",
   "execution_count": 129,
   "metadata": {},
   "outputs": [
    {
     "name": "stdout",
     "output_type": "stream",
     "text": [
      "[1 4]\n",
      "[[-2 -2]\n",
      " [-4 -6]]\n",
      "5\n",
      "-2.0000000000000004\n",
      "[[-2.   1. ]\n",
      " [ 1.5 -0.5]]\n",
      "[-3.  2.]\n"
     ]
    }
   ],
   "source": [
    "#   ————————————————————————————矩阵处理——————————————————————————\n",
    "import numpy.linalg\n",
    "#矩阵对角线\n",
    "print(np.diag(y))\n",
    "#矩阵乘法\n",
    "print(np.dot(x,y))\n",
    "#矩阵的迹\n",
    "print(np.trace(y))\n",
    "#行列式值\n",
    "print(np.linalg.det(y))\n",
    "#矩阵的逆\n",
    "print(np.linalg.inv(y))\n",
    "#解线性方程组\n",
    "print(np.linalg.solve(y, x[0]))"
   ]
  },
  {
   "cell_type": "markdown",
   "metadata": {},
   "source": [
    "##### 3.4.3.3.5 随机数模块\n",
    "\n",
    "生成随机数的数组需要导入随机数模块："
   ]
  },
  {
   "cell_type": "code",
   "execution_count": 144,
   "metadata": {},
   "outputs": [
    {
     "name": "stdout",
     "output_type": "stream",
     "text": [
      "[[ 1.32830106  1.05953636  0.33752701  0.8723855   1.6498133 ]\n",
      " [ 1.03866841 -0.26586761  0.12618713  0.20389674  0.18195108]\n",
      " [ 0.10658654  1.77981304 -3.07683081  1.3238369   0.28000619]\n",
      " [ 1.12967376 -1.92276128 -0.93667068  1.90566757  0.23841377]]\n",
      "[[0.51408146 0.92353027]\n",
      " [0.96739165 0.02186313]\n",
      " [0.5324598  0.60367591]]\n"
     ]
    }
   ],
   "source": [
    "import numpy.random\n",
    "#生成正态分布随机数矩阵\n",
    "print(np.random.normal(size=(4,5)))\n",
    "#生成均匀分布随机数矩阵\n",
    "print(np.random.rand(3,2))"
   ]
  },
  {
   "cell_type": "markdown",
   "metadata": {},
   "source": [
    "### 3.4.4 步骤四：计算精炼预测$\\alpha$\n",
    "\n",
    "有了前面的铺垫，我们终于可以计算主动收益率的精炼预测$\\alpha$了。\n",
    "它的公式是：\n",
    "$$\\alpha = w \\cdot IC \\cdot z$$\n",
    "其中，w是每只股票的波动率，IC是预测值的信息系数，z是标准化的预测。"
   ]
  },
  {
   "cell_type": "code",
   "execution_count": 213,
   "metadata": {},
   "outputs": [
    {
     "name": "stdout",
     "output_type": "stream",
     "text": [
      "              600000  600016    600019    600028    600029   600030   600036  \\\n",
      "date                                                                           \n",
      "2017-01-03  0.000000     0.0  0.000000  0.000000  0.000000  0.00000  0.00000   \n",
      "2017-01-04  0.000000     0.0  0.000000  0.000000  0.000000  0.00000  0.00000   \n",
      "2017-01-05  0.000480     0.0  0.000646  0.000436  0.000438  0.00035  0.00070   \n",
      "2017-01-06  0.000045     0.0  0.001139  0.000442  0.000000  0.00000  0.00028   \n",
      "2017-01-09  0.000000     0.0  0.000984  0.000000  0.000133  0.00000  0.00000   \n",
      "\n",
      "              600048  600050  600104    ...       601688    601766    601800  \\\n",
      "date                                    ...                                    \n",
      "2017-01-03  0.000000     0.0     0.0    ...     0.000000  0.000000  0.000000   \n",
      "2017-01-04  0.000000     0.0     0.0    ...     0.000000  0.000000  0.000000   \n",
      "2017-01-05  0.000549     0.0     0.0    ...     0.000216  0.000050  0.000729   \n",
      "2017-01-06  0.000000     0.0     0.0    ...     0.000000  0.000000  0.000680   \n",
      "2017-01-09  0.000000     0.0     0.0    ...     0.000000  0.000068  0.000163   \n",
      "\n",
      "              601818    601857  601878  601881  601988    601989    603993  \n",
      "date                                                                        \n",
      "2017-01-03  0.000000  0.000000     0.0     0.0     0.0  0.000000  0.000000  \n",
      "2017-01-04  0.000000  0.000000     0.0     0.0     0.0  0.000000  0.000000  \n",
      "2017-01-05  0.000217  0.000580     0.0     0.0     0.0  0.000971  0.000756  \n",
      "2017-01-06  0.000000  0.000575     0.0     0.0     0.0  0.000727  0.001106  \n",
      "2017-01-09  0.000000  0.000391     0.0     0.0     0.0  0.000000  0.000749  \n",
      "\n",
      "[5 rows x 50 columns]\n"
     ]
    }
   ],
   "source": [
    "alpha_r3s = np.repeat(np.array(stock_active_rtn.std()).reshape(1, stock_rtn.columns.size), len(stock_rtn), axis=0) * ic_r3s * z_r3s\n",
    "print(alpha_r3s.head())"
   ]
  },
  {
   "cell_type": "markdown",
   "metadata": {},
   "source": [
    "## 3.5 结论\n",
    "\n",
    "迄今为止，我们看似已经得出了对收益率的精炼预测。但这还远远不够，还有很多棘手的问题。我们在后面的章节中，还会继续这个问题。"
   ]
  }
 ],
 "metadata": {
  "kernelspec": {
   "display_name": "Python 3",
   "language": "python",
   "name": "python3"
  },
  "language_info": {
   "codemirror_mode": {
    "name": "ipython",
    "version": 3
   },
   "file_extension": ".py",
   "mimetype": "text/x-python",
   "name": "python",
   "nbconvert_exporter": "python",
   "pygments_lexer": "ipython3",
   "version": "3.6.5"
  }
 },
 "nbformat": 4,
 "nbformat_minor": 2
}
